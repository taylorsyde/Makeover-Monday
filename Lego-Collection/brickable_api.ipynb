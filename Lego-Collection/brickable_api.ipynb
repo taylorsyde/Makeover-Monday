{
 "cells": [
  {
   "cell_type": "code",
   "execution_count": 14,
   "id": "47d0e765-ba64-479f-bcf2-7c72133f9332",
   "metadata": {},
   "outputs": [],
   "source": [
    "# IMPORT DEPENDANCIES\n",
    "\n",
    "import pandas as pd\n",
    "import json\n",
    "import requests\n",
    "# !pip install rebrick\n",
    "import rebrick"
   ]
  },
  {
   "cell_type": "markdown",
   "id": "f87b7065-5128-4700-87bc-c9f82e80fc70",
   "metadata": {},
   "source": [
    "https://github.com/xxao/rebrick"
   ]
  },
  {
   "cell_type": "code",
   "execution_count": 15,
   "id": "3866839c-2d1a-4ca7-887e-4aea0ee949fe",
   "metadata": {},
   "outputs": [],
   "source": [
    "# INIT REBRICK API MODULE \n",
    "api_key = open('creds.txt','r').read()\n",
    "rebrick.init(api_key)"
   ]
  },
  {
   "cell_type": "code",
   "execution_count": 6,
   "id": "eb230b71-06ae-4630-91f3-93f15d1ee62e",
   "metadata": {},
   "outputs": [],
   "source": [
    "# IMPORT MY SET INVENTORY\n",
    "sets = pd.read_csv('rebrickable_sets_taylorsyde.csv').rename({'Set Number':'set_num'})\n",
    "\n",
    "# create col for set id needed to API call\n",
    "sets['api_id'] = sets['Set Number'].str.replace('-1','')"
   ]
  },
  {
   "cell_type": "code",
   "execution_count": 7,
   "id": "ff53020f-5ce8-4c4f-b7cf-974fd1713947",
   "metadata": {},
   "outputs": [],
   "source": [
    "# REQUEST ALL CURRENT THEMES FROM API & STORE\n",
    "themes_response = json.loads((rebrick.lego.get_themes()).read())\n",
    "themes = pd.DataFrame(themes_response['results'])[['id','name']].rename(columns = {'name':'theme_name', 'id':'theme_id'})\n",
    "\n",
    "themes.to_csv('lego_themes.csv', index=False)"
   ]
  },
  {
   "cell_type": "code",
   "execution_count": 8,
   "id": "3872c44d-845f-4ea3-91cf-8ddb04bd397a",
   "metadata": {},
   "outputs": [],
   "source": [
    "# REQUEST SET INFO FROM API\n",
    "set_responses = []\n",
    "\n",
    "for s in sets['api_id']: \n",
    "    # get set overview info\n",
    "    set_response = rebrick.lego.get_set(s)\n",
    "    set_response_dict = json.loads(set_response.read())\n",
    "    set_data = pd.DataFrame(set_response_dict, index=[0])\n",
    "    set_responses.append(set_data)\n",
    "\n",
    "# create set df\n",
    "df_sets = pd.concat(set_responses)"
   ]
  },
  {
   "cell_type": "markdown",
   "id": "f9fdfd37-ce0a-4487-a522-7a90c64c0b42",
   "metadata": {
    "tags": []
   },
   "source": [
    "#### Get Parts and Prep"
   ]
  },
  {
   "cell_type": "code",
   "execution_count": 35,
   "id": "7fa0fdc1-e092-4cb8-bf8b-0994ef38e677",
   "metadata": {
    "jupyter": {
     "source_hidden": true
    },
    "tags": []
   },
   "outputs": [],
   "source": [
    "# PREP PARTS DATA\n",
    "\n",
    "# select target columns from nested dictonary\n",
    "df_parts[['part_number','part_name', 'part_category', \n",
    "          'part_image_url','part_url','color_id', 'color_name']] = None\n",
    "\n",
    "# extract info from embedded dictionarys \n",
    "for i, row in df_parts.iterrows():\n",
    "    df_parts.at[i, 'part_number'] = row['part'].get('part_num')\n",
    "    df_parts.at[i, 'part_name'] = row['part'].get('name')\n",
    "    df_parts.at[i, 'part_category'] = row['part'].get('part_cat_id')\n",
    "    df_parts.at[i, 'part_image_url'] = row['part'].get('part_img_url')\n",
    "    df_parts.at[i, 'part_url'] = row['part'].get('part_url')\n",
    "    \n",
    "    df_parts.at[i, 'color_id'] = row['color'].get('id')\n",
    "    df_parts.at[i, 'color_name'] = row['color'].get('name')"
   ]
  },
  {
   "cell_type": "code",
   "execution_count": 32,
   "id": "356908db-fe4c-49a8-82b0-2919f7e0308e",
   "metadata": {
    "collapsed": true,
    "jupyter": {
     "outputs_hidden": true,
     "source_hidden": true
    },
    "tags": []
   },
   "outputs": [
    {
     "name": "stdout",
     "output_type": "stream",
     "text": [
      "Getting parts for set 10266-1\n",
      "Getting parts for set 10280-1\n",
      "Getting parts for set 21328-1\n",
      "Getting parts for set 76989-1\n",
      "Getting parts for set 10311-1\n",
      "Getting parts for set 10313-1\n",
      "Getting parts for set 10314-1\n",
      "Getting parts for set 40587-1\n",
      "Getting parts for set 77013-1\n",
      "Getting parts for set 77015-1\n",
      "Getting parts for set 21342-1\n"
     ]
    }
   ],
   "source": [
    "part_responses = []\n",
    "\n",
    "for s in sets['Set Number']: \n",
    "    print(f'Getting parts for set {s}')\n",
    "    next_page = True\n",
    "    page_number = 1\n",
    "    parts_list = []\n",
    "\n",
    "    while next_page: \n",
    "        part_response = json.loads((rebrick.lego.get_set_elements(s, page=page_number)).read())\n",
    "        parts_list.extend(part_response['results']) # add the page to the parts list\n",
    "        next_page = part_response['next'] is not None # checks for next page value\n",
    "        page_number += 1 # increase the page count\n",
    "\n",
    "    # convert to DataFrame & append to full parts list\n",
    "    part_data = pd.DataFrame(parts_list)\n",
    "    part_responses.append(part_data)\n",
    "    \n",
    "# create one master df of parts\n",
    "df_parts = pd.concat(part_responses).reset_index(drop=True)"
   ]
  },
  {
   "cell_type": "code",
   "execution_count": 36,
   "id": "cfdd648f-0652-4a0e-8674-351910699cdc",
   "metadata": {},
   "outputs": [
    {
     "data": {
      "text/html": [
       "<div>\n",
       "<style scoped>\n",
       "    .dataframe tbody tr th:only-of-type {\n",
       "        vertical-align: middle;\n",
       "    }\n",
       "\n",
       "    .dataframe tbody tr th {\n",
       "        vertical-align: top;\n",
       "    }\n",
       "\n",
       "    .dataframe thead th {\n",
       "        text-align: right;\n",
       "    }\n",
       "</style>\n",
       "<table border=\"1\" class=\"dataframe\">\n",
       "  <thead>\n",
       "    <tr style=\"text-align: right;\">\n",
       "      <th></th>\n",
       "      <th>id</th>\n",
       "      <th>inv_part_id</th>\n",
       "      <th>part</th>\n",
       "      <th>color</th>\n",
       "      <th>set_num</th>\n",
       "      <th>quantity</th>\n",
       "      <th>is_spare</th>\n",
       "      <th>element_id</th>\n",
       "      <th>num_sets</th>\n",
       "      <th>part_number</th>\n",
       "      <th>part_name</th>\n",
       "      <th>part_category</th>\n",
       "      <th>part_image_url</th>\n",
       "      <th>part_url</th>\n",
       "      <th>color_id</th>\n",
       "      <th>color_name</th>\n",
       "    </tr>\n",
       "  </thead>\n",
       "  <tbody>\n",
       "    <tr>\n",
       "      <th>2092</th>\n",
       "      <td>16729832</td>\n",
       "      <td>16729832</td>\n",
       "      <td>{'part_num': '90981', 'name': 'Insect Accessor...</td>\n",
       "      <td>{'id': 15, 'name': 'White', 'rgb': 'FFFFFF', '...</td>\n",
       "      <td>77015-1</td>\n",
       "      <td>1</td>\n",
       "      <td>False</td>\n",
       "      <td>6006221</td>\n",
       "      <td>57</td>\n",
       "      <td>90981</td>\n",
       "      <td>Insect Accessory, Spider Web, Hanging</td>\n",
       "      <td>28</td>\n",
       "      <td>https://cdn.rebrickable.com/media/parts/elemen...</td>\n",
       "      <td>https://rebrickable.com/parts/90981/insect-acc...</td>\n",
       "      <td>15</td>\n",
       "      <td>White</td>\n",
       "    </tr>\n",
       "  </tbody>\n",
       "</table>\n",
       "</div>"
      ],
      "text/plain": [
       "            id  inv_part_id  \\\n",
       "2092  16729832     16729832   \n",
       "\n",
       "                                                   part  \\\n",
       "2092  {'part_num': '90981', 'name': 'Insect Accessor...   \n",
       "\n",
       "                                                  color  set_num  quantity  \\\n",
       "2092  {'id': 15, 'name': 'White', 'rgb': 'FFFFFF', '...  77015-1         1   \n",
       "\n",
       "      is_spare element_id  num_sets part_number  \\\n",
       "2092     False    6006221        57       90981   \n",
       "\n",
       "                                  part_name part_category  \\\n",
       "2092  Insect Accessory, Spider Web, Hanging            28   \n",
       "\n",
       "                                         part_image_url  \\\n",
       "2092  https://cdn.rebrickable.com/media/parts/elemen...   \n",
       "\n",
       "                                               part_url color_id color_name  \n",
       "2092  https://rebrickable.com/parts/90981/insect-acc...       15      White  "
      ]
     },
     "execution_count": 36,
     "metadata": {},
     "output_type": "execute_result"
    }
   ],
   "source": [
    "df_parts.sample()"
   ]
  },
  {
   "cell_type": "markdown",
   "id": "4d4c97eb-139e-462f-8db7-18c7306069a6",
   "metadata": {},
   "source": [
    "#### Merge Into Final Output"
   ]
  },
  {
   "cell_type": "code",
   "execution_count": 38,
   "id": "05b45aac-8c99-4522-9885-e297a65c95fd",
   "metadata": {},
   "outputs": [],
   "source": [
    "# SELECT TARGET COLUMNS \n",
    "parts_clean = df_parts[['set_num', 'part_number', 'part_name', 'part_category'\n",
    "                       ,'part_image_url', 'part_url', 'color_id', 'color_name'\n",
    "                       , 'quantity', 'is_spare']]\n",
    "\n",
    "sets_clean  = df_sets[['set_num', 'name', 'year', 'theme_id', 'num_parts' \n",
    "                      ,'set_img_url','set_url']]"
   ]
  },
  {
   "cell_type": "code",
   "execution_count": 39,
   "id": "d3e7e5e0-e07e-475a-a21d-d74a3d4d6a99",
   "metadata": {},
   "outputs": [
    {
     "data": {
      "text/plain": [
       "10621"
      ]
     },
     "execution_count": 39,
     "metadata": {},
     "output_type": "execute_result"
    }
   ],
   "source": [
    "parts_clean.quantity.sum()"
   ]
  },
  {
   "cell_type": "code",
   "execution_count": 40,
   "id": "28a674cf-f1c8-4ad7-903c-dbd7bc40d6ab",
   "metadata": {},
   "outputs": [],
   "source": [
    "master_inventory = sets_clean.merge(parts_clean, how = 'outer', on = 'set_num')"
   ]
  },
  {
   "cell_type": "code",
   "execution_count": 41,
   "id": "e1307cbf-2aa7-4648-8b35-6c437254c752",
   "metadata": {},
   "outputs": [
    {
     "data": {
      "text/plain": [
       "10621"
      ]
     },
     "execution_count": 41,
     "metadata": {},
     "output_type": "execute_result"
    }
   ],
   "source": [
    "master_inventory.quantity.sum()"
   ]
  },
  {
   "cell_type": "code",
   "execution_count": 42,
   "id": "e475cf96-17a1-486d-9b01-bdbcb258933c",
   "metadata": {},
   "outputs": [],
   "source": [
    "master_inventory.to_csv('lego_inventory.csv', index=False)"
   ]
  },
  {
   "cell_type": "code",
   "execution_count": null,
   "id": "d1d3e6e8-3a10-4563-867b-4f11685d4a2b",
   "metadata": {},
   "outputs": [],
   "source": []
  }
 ],
 "metadata": {
  "kernelspec": {
   "display_name": "Python 3",
   "language": "python",
   "name": "python3"
  },
  "language_info": {
   "codemirror_mode": {
    "name": "ipython",
    "version": 3
   },
   "file_extension": ".py",
   "mimetype": "text/x-python",
   "name": "python",
   "nbconvert_exporter": "python",
   "pygments_lexer": "ipython3",
   "version": "3.8.8"
  }
 },
 "nbformat": 4,
 "nbformat_minor": 5
}
