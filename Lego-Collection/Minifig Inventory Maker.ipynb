{
 "cells": [
  {
   "cell_type": "code",
   "execution_count": 2,
   "id": "072bcbf6-f13d-4a3b-9397-4a8648e07f6f",
   "metadata": {},
   "outputs": [],
   "source": [
    "# IMPORT DEPENDANCIES\n",
    "\n",
    "import pandas as pd\n",
    "import json\n",
    "import requests\n",
    "# !pip install rebrick\n",
    "import rebrick"
   ]
  },
  {
   "cell_type": "markdown",
   "id": "da8b2143-2e51-43b2-ac74-efd78f6db0e3",
   "metadata": {},
   "source": [
    "### Create Minifig Lib"
   ]
  },
  {
   "cell_type": "code",
   "execution_count": 3,
   "id": "6ce867ee-cc2a-4b5c-b8e5-c47bbff6767e",
   "metadata": {},
   "outputs": [],
   "source": [
    "mf_dict = {# Lost Tomb\n",
    "          'Indiana Jones': ['https://github.com/taylorsyde/Makeover-Monday/blob/main/Lego-Collection/Minifigs/Indiana_Jones-removebg-preview.png?raw=true', '77013-1', 1]\n",
    "          ,'Marion Ravenwood':['https://github.com/taylorsyde/Makeover-Monday/blob/main/Lego-Collection/Minifigs/Marion-removebg-preview.png?raw=true', '77013-1',1]\n",
    "          ,'Sallah': ['https://github.com/taylorsyde/Makeover-Monday/blob/main/Lego-Collection/Minifigs/Sallah-removebg-preview.png?raw=true', '77013-1', 1]\n",
    "          ,'Mummy':['https://github.com/taylorsyde/Makeover-Monday/blob/main/Lego-Collection/Minifigs/Mummy-removebg-preview.png?raw=true','77013-1']\n",
    "           # Temple \n",
    "          ,'Indiana Jones': ['https://github.com/taylorsyde/Makeover-Monday/blob/main/Lego-Collection/Minifigs/Indiana_Jones-removebg-preview.png?raw=true', '77015-1', 1]\n",
    "          ,'Satipo':['https://github.com/taylorsyde/Makeover-Monday/blob/main/Lego-Collection/Minifigs/Satipo-removebg-preview.png?raw=true', '77015-1',1]\n",
    "          ,'Belloq':['https://github.com/taylorsyde/Makeover-Monday/blob/main/Lego-Collection/Minifigs/Ren_Belloq-removebg-preview.png?raw=true', '77015-1',1]\n",
    "          ,'Hovitos Warrior':['https://github.com/taylorsyde/Makeover-Monday/blob/main/Lego-Collection/Minifigs/Hovitos-removebg-preview.png?raw=true', '77015-1',1]\n",
    "          ,'Skeleton':['https://github.com/taylorsyde/Makeover-Monday/blob/main/Lego-Collection/Minifigs/Skull-removebg-preview.png?raw=true', '77015-1',1]\n",
    "           # Seinfeld\n",
    "          ,'Jerry Seinfeld':['https://github.com/taylorsyde/Makeover-Monday/blob/main/Lego-Collection/Minifigs/Jerry-removebg-preview.png?raw=true', '21328-1',1]\n",
    "          ,'George Louis Costanza':['https://github.com/taylorsyde/Makeover-Monday/blob/main/Lego-Collection/Minifigs/Constanza-removebg-preview.png?raw=true', '21328-1',1]\n",
    "          ,'Elaine Marie Benes':['https://github.com/taylorsyde/Makeover-Monday/blob/main/Lego-Collection/Minifigs/Elaine-removebg-preview.png?raw=true', '21328-1',1]\n",
    "          ,'Cosmo Kramer':['https://github.com/taylorsyde/Makeover-Monday/blob/main/Lego-Collection/Minifigs/Kramer-removebg-preview.png?raw=true', '21328-1',1]\n",
    "          ,'Newman':['https://github.com/taylorsyde/Makeover-Monday/blob/main/Lego-Collection/Minifigs/idea093-removebg-preview.png?raw=true', '21328-1',1]\n",
    "           # Tall Neck\n",
    "          ,'Aloy':['https://github.com/taylorsyde/Makeover-Monday/blob/main/Lego-Collection/Minifigs/aloy-removebg-preview.png?raw=true', '76989-1',1]\n",
    "           # Apollo\n",
    "          ,'Nasa Astronaut':['https://github.com/taylorsyde/Makeover-Monday/blob/main/Lego-Collection/Minifigs/astro-removebg-preview.png?raw=true', '10266-1',2]}"
   ]
  },
  {
   "cell_type": "code",
   "execution_count": 5,
   "id": "fad2d2f1-422c-4dfc-80a8-20cf22171371",
   "metadata": {},
   "outputs": [],
   "source": [
    "minifig_inventory = pd.DataFrame.from_dict(mf_dict, orient = 'index', columns = ['minifig_img_url', 'set_num', 'quantity']).reset_index()\n",
    "minifig_inventory.rename(columns={'index':'Minifig Name'}, inplace = True)"
   ]
  },
  {
   "cell_type": "code",
   "execution_count": 6,
   "id": "85d2976e-21dd-407c-9707-ebd34c801ae5",
   "metadata": {},
   "outputs": [],
   "source": [
    "minifig_inventory.to_csv('minifig_inventory.csv', index = False)"
   ]
  },
  {
   "cell_type": "code",
   "execution_count": null,
   "id": "1d3ec288-7ba2-4f1c-8ab7-bfb718b3d541",
   "metadata": {},
   "outputs": [],
   "source": []
  }
 ],
 "metadata": {
  "kernelspec": {
   "display_name": "Python 3",
   "language": "python",
   "name": "python3"
  },
  "language_info": {
   "codemirror_mode": {
    "name": "ipython",
    "version": 3
   },
   "file_extension": ".py",
   "mimetype": "text/x-python",
   "name": "python",
   "nbconvert_exporter": "python",
   "pygments_lexer": "ipython3",
   "version": "3.8.8"
  }
 },
 "nbformat": 4,
 "nbformat_minor": 5
}
